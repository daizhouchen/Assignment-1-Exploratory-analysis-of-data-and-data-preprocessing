{
 "cells": [
  {
   "cell_type": "markdown",
   "id": "caba5cc4",
   "metadata": {},
   "source": [
    "# movies_dataset"
   ]
  },
  {
   "cell_type": "markdown",
   "id": "c055ba5d",
   "metadata": {},
   "source": [
    "## 数据导入"
   ]
  },
  {
   "cell_type": "code",
   "execution_count": 1,
   "id": "b524f602",
   "metadata": {},
   "outputs": [],
   "source": [
    "import pandas as pd\n",
    "dataset=pd.read_csv(\"movies_dataset.csv\", encoding='ISO-8859-1')"
   ]
  },
  {
   "cell_type": "code",
   "execution_count": 2,
   "id": "4cd8280e",
   "metadata": {
    "scrolled": true
   },
   "outputs": [
    {
     "data": {
      "text/html": [
       "<div>\n",
       "<style scoped>\n",
       "    .dataframe tbody tr th:only-of-type {\n",
       "        vertical-align: middle;\n",
       "    }\n",
       "\n",
       "    .dataframe tbody tr th {\n",
       "        vertical-align: top;\n",
       "    }\n",
       "\n",
       "    .dataframe thead th {\n",
       "        text-align: right;\n",
       "    }\n",
       "</style>\n",
       "<table border=\"1\" class=\"dataframe\">\n",
       "  <thead>\n",
       "    <tr style=\"text-align: right;\">\n",
       "      <th></th>\n",
       "      <th>IMDb-rating</th>\n",
       "      <th>appropriate_for</th>\n",
       "      <th>director</th>\n",
       "      <th>downloads</th>\n",
       "      <th>id</th>\n",
       "      <th>industry</th>\n",
       "      <th>language</th>\n",
       "      <th>posted_date</th>\n",
       "      <th>release_date</th>\n",
       "      <th>run_time</th>\n",
       "      <th>storyline</th>\n",
       "      <th>title</th>\n",
       "      <th>views</th>\n",
       "      <th>writer</th>\n",
       "    </tr>\n",
       "  </thead>\n",
       "  <tbody>\n",
       "    <tr>\n",
       "      <th>0</th>\n",
       "      <td>4.8</td>\n",
       "      <td>R</td>\n",
       "      <td>John Swab</td>\n",
       "      <td>304.0</td>\n",
       "      <td>372092.0</td>\n",
       "      <td>Hollywood / English</td>\n",
       "      <td>English</td>\n",
       "      <td>20 Feb, 2023</td>\n",
       "      <td>Jan 28 2023</td>\n",
       "      <td>105.00</td>\n",
       "      <td>Doc\\n facilitates a fragile truce between the ...</td>\n",
       "      <td>Little Dixie</td>\n",
       "      <td>2794.0</td>\n",
       "      <td>John Swab</td>\n",
       "    </tr>\n",
       "    <tr>\n",
       "      <th>1</th>\n",
       "      <td>6.4</td>\n",
       "      <td>TV-PG</td>\n",
       "      <td>Paul Ziller</td>\n",
       "      <td>73.0</td>\n",
       "      <td>372091.0</td>\n",
       "      <td>Hollywood / English</td>\n",
       "      <td>English</td>\n",
       "      <td>20 Feb, 2023</td>\n",
       "      <td>Feb 05 2023</td>\n",
       "      <td>84.00</td>\n",
       "      <td>Caterer\\n Goldy Berry reunites with detective ...</td>\n",
       "      <td>Grilling Season: A Curious Caterer Mystery</td>\n",
       "      <td>1002.0</td>\n",
       "      <td>John Christian Plummer</td>\n",
       "    </tr>\n",
       "    <tr>\n",
       "      <th>2</th>\n",
       "      <td>5.2</td>\n",
       "      <td>R</td>\n",
       "      <td>Ben Wheatley</td>\n",
       "      <td>1427.0</td>\n",
       "      <td>343381.0</td>\n",
       "      <td>Hollywood / English</td>\n",
       "      <td>English,Hindi</td>\n",
       "      <td>20 Apr, 2021</td>\n",
       "      <td>Jun 18 2021</td>\n",
       "      <td>1h 47min</td>\n",
       "      <td>As the world searches for a cure to a disastro...</td>\n",
       "      <td>In the Earth</td>\n",
       "      <td>14419.0</td>\n",
       "      <td>Ben Wheatley</td>\n",
       "    </tr>\n",
       "    <tr>\n",
       "      <th>3</th>\n",
       "      <td>8.1</td>\n",
       "      <td>NaN</td>\n",
       "      <td>Venky Atluri</td>\n",
       "      <td>1549.0</td>\n",
       "      <td>372090.0</td>\n",
       "      <td>Tollywood</td>\n",
       "      <td>Hindi</td>\n",
       "      <td>20 Feb, 2023</td>\n",
       "      <td>Feb 17 2023</td>\n",
       "      <td>139.00</td>\n",
       "      <td>The life of a young man and his struggles agai...</td>\n",
       "      <td>Vaathi</td>\n",
       "      <td>4878.0</td>\n",
       "      <td>Venky Atluri</td>\n",
       "    </tr>\n",
       "    <tr>\n",
       "      <th>4</th>\n",
       "      <td>4.6</td>\n",
       "      <td>NaN</td>\n",
       "      <td>Shaji Kailas</td>\n",
       "      <td>657.0</td>\n",
       "      <td>372089.0</td>\n",
       "      <td>Tollywood</td>\n",
       "      <td>Hindi</td>\n",
       "      <td>20 Feb, 2023</td>\n",
       "      <td>Jan 26 2023</td>\n",
       "      <td>122.00</td>\n",
       "      <td>A man named Kalidas gets stranded due to the p...</td>\n",
       "      <td>Alone</td>\n",
       "      <td>2438.0</td>\n",
       "      <td>Rajesh Jayaraman</td>\n",
       "    </tr>\n",
       "    <tr>\n",
       "      <th>...</th>\n",
       "      <td>...</td>\n",
       "      <td>...</td>\n",
       "      <td>...</td>\n",
       "      <td>...</td>\n",
       "      <td>...</td>\n",
       "      <td>...</td>\n",
       "      <td>...</td>\n",
       "      <td>...</td>\n",
       "      <td>...</td>\n",
       "      <td>...</td>\n",
       "      <td>...</td>\n",
       "      <td>...</td>\n",
       "      <td>...</td>\n",
       "      <td>...</td>\n",
       "    </tr>\n",
       "    <tr>\n",
       "      <th>20543</th>\n",
       "      <td>NaN</td>\n",
       "      <td>NaN</td>\n",
       "      <td>NaN</td>\n",
       "      <td>1998.0</td>\n",
       "      <td>28957.0</td>\n",
       "      <td>Bollywood / Indian</td>\n",
       "      <td>Hindi</td>\n",
       "      <td>01 Jan, 1970</td>\n",
       "      <td>Mar 13 1959</td>\n",
       "      <td>NaN</td>\n",
       "      <td>NaN</td>\n",
       "      <td>Bhai-Bahen</td>\n",
       "      <td>6219.0</td>\n",
       "      <td>NaN</td>\n",
       "    </tr>\n",
       "    <tr>\n",
       "      <th>20544</th>\n",
       "      <td>7.7</td>\n",
       "      <td>NaN</td>\n",
       "      <td>Bimal Roy</td>\n",
       "      <td>6080.0</td>\n",
       "      <td>28958.0</td>\n",
       "      <td>Bollywood / Indian</td>\n",
       "      <td>Hindi</td>\n",
       "      <td>01 Jan, 1970</td>\n",
       "      <td>May 13 1955</td>\n",
       "      <td>159.00</td>\n",
       "      <td>Devdas and Parvati had been inseparable as chi...</td>\n",
       "      <td>Devdas</td>\n",
       "      <td>16376.0</td>\n",
       "      <td>Rajinder Singh Bedi, Saratchandra Chatterjee, ...</td>\n",
       "    </tr>\n",
       "    <tr>\n",
       "      <th>20545</th>\n",
       "      <td>8.0</td>\n",
       "      <td>NaN</td>\n",
       "      <td>NaN</td>\n",
       "      <td>3276.0</td>\n",
       "      <td>30459.0</td>\n",
       "      <td>Bollywood / Indian</td>\n",
       "      <td>Hindi</td>\n",
       "      <td>01 Jan, 1970</td>\n",
       "      <td>Mar 28 1958</td>\n",
       "      <td>1h 50min</td>\n",
       "      <td>While driving his car on a rainy night, Anand'...</td>\n",
       "      <td>Madhumati</td>\n",
       "      <td>7220.0</td>\n",
       "      <td>NaN</td>\n",
       "    </tr>\n",
       "    <tr>\n",
       "      <th>20546</th>\n",
       "      <td>NaN</td>\n",
       "      <td>NaN</td>\n",
       "      <td>NaN</td>\n",
       "      <td>309.0</td>\n",
       "      <td>371669.0</td>\n",
       "      <td>Wrestling</td>\n",
       "      <td>English</td>\n",
       "      <td>10 Feb, 2023</td>\n",
       "      <td>Feb 09 2023</td>\n",
       "      <td>NaN</td>\n",
       "      <td>NaN</td>\n",
       "      <td>TNA.Impact 2023-02-09</td>\n",
       "      <td>1419.0</td>\n",
       "      <td>NaN</td>\n",
       "    </tr>\n",
       "    <tr>\n",
       "      <th>20547</th>\n",
       "      <td>NaN</td>\n",
       "      <td>NaN</td>\n",
       "      <td>NaN</td>\n",
       "      <td>2613.0</td>\n",
       "      <td>371816.0</td>\n",
       "      <td>Wrestling</td>\n",
       "      <td>English</td>\n",
       "      <td>14 Feb, 2023</td>\n",
       "      <td>Feb 13 2023</td>\n",
       "      <td>NaN</td>\n",
       "      <td>NaN</td>\n",
       "      <td>WWE Raw 2023-02-13</td>\n",
       "      <td>6697.0</td>\n",
       "      <td>NaN</td>\n",
       "    </tr>\n",
       "  </tbody>\n",
       "</table>\n",
       "<p>20548 rows × 14 columns</p>\n",
       "</div>"
      ],
      "text/plain": [
       "       IMDb-rating appropriate_for      director  downloads        id  \\\n",
       "0              4.8               R     John Swab      304.0  372092.0   \n",
       "1              6.4           TV-PG   Paul Ziller       73.0  372091.0   \n",
       "2              5.2               R  Ben Wheatley     1427.0  343381.0   \n",
       "3              8.1             NaN  Venky Atluri     1549.0  372090.0   \n",
       "4              4.6             NaN  Shaji Kailas      657.0  372089.0   \n",
       "...            ...             ...           ...        ...       ...   \n",
       "20543          NaN             NaN           NaN     1998.0   28957.0   \n",
       "20544          7.7             NaN     Bimal Roy     6080.0   28958.0   \n",
       "20545          8.0             NaN           NaN     3276.0   30459.0   \n",
       "20546          NaN             NaN           NaN      309.0  371669.0   \n",
       "20547          NaN             NaN           NaN     2613.0  371816.0   \n",
       "\n",
       "                  industry       language   posted_date release_date  \\\n",
       "0      Hollywood / English        English  20 Feb, 2023  Jan 28 2023   \n",
       "1      Hollywood / English        English  20 Feb, 2023  Feb 05 2023   \n",
       "2      Hollywood / English  English,Hindi  20 Apr, 2021  Jun 18 2021   \n",
       "3                Tollywood          Hindi  20 Feb, 2023  Feb 17 2023   \n",
       "4                Tollywood          Hindi  20 Feb, 2023  Jan 26 2023   \n",
       "...                    ...            ...           ...          ...   \n",
       "20543   Bollywood / Indian          Hindi  01 Jan, 1970  Mar 13 1959   \n",
       "20544   Bollywood / Indian          Hindi  01 Jan, 1970  May 13 1955   \n",
       "20545   Bollywood / Indian          Hindi  01 Jan, 1970  Mar 28 1958   \n",
       "20546            Wrestling        English  10 Feb, 2023  Feb 09 2023   \n",
       "20547            Wrestling        English  14 Feb, 2023  Feb 13 2023   \n",
       "\n",
       "       run_time                                          storyline  \\\n",
       "0       105.00   Doc\\n facilitates a fragile truce between the ...   \n",
       "1        84.00   Caterer\\n Goldy Berry reunites with detective ...   \n",
       "2      1h 47min  As the world searches for a cure to a disastro...   \n",
       "3       139.00   The life of a young man and his struggles agai...   \n",
       "4       122.00   A man named Kalidas gets stranded due to the p...   \n",
       "...         ...                                                ...   \n",
       "20543       NaN                                                NaN   \n",
       "20544   159.00   Devdas and Parvati had been inseparable as chi...   \n",
       "20545  1h 50min  While driving his car on a rainy night, Anand'...   \n",
       "20546       NaN                                                NaN   \n",
       "20547       NaN                                                NaN   \n",
       "\n",
       "                                            title    views  \\\n",
       "0                                    Little Dixie   2794.0   \n",
       "1      Grilling Season: A Curious Caterer Mystery   1002.0   \n",
       "2                                    In the Earth  14419.0   \n",
       "3                                          Vaathi   4878.0   \n",
       "4                                           Alone   2438.0   \n",
       "...                                           ...      ...   \n",
       "20543                                  Bhai-Bahen   6219.0   \n",
       "20544                                      Devdas  16376.0   \n",
       "20545                                   Madhumati   7220.0   \n",
       "20546                       TNA.Impact 2023-02-09   1419.0   \n",
       "20547                          WWE Raw 2023-02-13   6697.0   \n",
       "\n",
       "                                                  writer  \n",
       "0                                              John Swab  \n",
       "1                                 John Christian Plummer  \n",
       "2                                           Ben Wheatley  \n",
       "3                                           Venky Atluri  \n",
       "4                                       Rajesh Jayaraman  \n",
       "...                                                  ...  \n",
       "20543                                                NaN  \n",
       "20544  Rajinder Singh Bedi, Saratchandra Chatterjee, ...  \n",
       "20545                                                NaN  \n",
       "20546                                                NaN  \n",
       "20547                                                NaN  \n",
       "\n",
       "[20548 rows x 14 columns]"
      ]
     },
     "execution_count": 2,
     "metadata": {},
     "output_type": "execute_result"
    }
   ],
   "source": [
    "dataset"
   ]
  },
  {
   "cell_type": "markdown",
   "id": "69987aad",
   "metadata": {},
   "source": [
    "## 数据摘要"
   ]
  },
  {
   "cell_type": "markdown",
   "id": "bf674b4a",
   "metadata": {},
   "source": [
    "###  标称属性每个可能取值的频数"
   ]
  },
  {
   "cell_type": "code",
   "execution_count": 3,
   "id": "5f300ce2",
   "metadata": {},
   "outputs": [
    {
     "data": {
      "text/plain": [
       "Hollywood / English    14649\n",
       "Bollywood / Indian      2645\n",
       "Tollywood               1172\n",
       "Anime / Kids            1049\n",
       "Wrestling                433\n",
       "Punjabi                  332\n",
       "Stage shows              129\n",
       "Pakistani                 92\n",
       "Dub / Dual Audio          45\n",
       "3D Movies                  1\n",
       "Name: industry, dtype: int64"
      ]
     },
     "execution_count": 3,
     "metadata": {},
     "output_type": "execute_result"
    }
   ],
   "source": [
    "dataset['industry'].value_counts()"
   ]
  },
  {
   "cell_type": "code",
   "execution_count": 4,
   "id": "455cbee6",
   "metadata": {},
   "outputs": [
    {
     "data": {
      "text/plain": [
       "Venky Atluri                                  405\n",
       "Simone Stock                                  403\n",
       "Xavier Manrique                               403\n",
       "John Swab                                     205\n",
       "Neil Jordan                                   205\n",
       "                                             ... \n",
       "Agnieszka Smoczynska                            1\n",
       "Dylan Thomas Ellis                              1\n",
       "Sunil Thakur, Sunil Dhawan, Shivani Thakur      1\n",
       "Suman Mukhopadhyay                              1\n",
       "Shea Sizemore                                   1\n",
       "Name: director, Length: 9672, dtype: int64"
      ]
     },
     "execution_count": 4,
     "metadata": {},
     "output_type": "execute_result"
    }
   ],
   "source": [
    "dataset['director'].value_counts()"
   ]
  },
  {
   "cell_type": "code",
   "execution_count": 5,
   "id": "2d8de9ef",
   "metadata": {},
   "outputs": [
    {
     "data": {
      "text/plain": [
       "English                                 12657\n",
       "Hindi                                    2558\n",
       "English,Spanish                           391\n",
       "Punjabi                                   310\n",
       "English,Hindi                             304\n",
       "                                        ...  \n",
       "English,Korean,Spanish                      1\n",
       "Norwegian,Swedish                           1\n",
       "Spanish,Chinese,English,Maori,French        1\n",
       "Urdu,Punjabi,English                        1\n",
       "Spanish,German,English                      1\n",
       "Name: language, Length: 1168, dtype: int64"
      ]
     },
     "execution_count": 5,
     "metadata": {},
     "output_type": "execute_result"
    }
   ],
   "source": [
    "dataset['language'].value_counts()"
   ]
  },
  {
   "cell_type": "code",
   "execution_count": 6,
   "id": "a462fc2f",
   "metadata": {},
   "outputs": [
    {
     "data": {
      "text/plain": [
       "Nicholas Schutt                           403\n",
       "Venky Atluri                              402\n",
       "Haley Harris                              402\n",
       "John Swab                                 205\n",
       "Elegance Bratton                          202\n",
       "                                         ... \n",
       "Barbara Samuels, Joseph Boyden              1\n",
       "Maria Allred                                1\n",
       "Pia Mechler                                 1\n",
       "Paul Flannery, David Ryan Keith             1\n",
       "Khwaja Ahmad Abbas, Khwaja Ahmad Abbas      1\n",
       "Name: writer, Length: 13603, dtype: int64"
      ]
     },
     "execution_count": 6,
     "metadata": {},
     "output_type": "execute_result"
    }
   ],
   "source": [
    "dataset['writer'].value_counts()"
   ]
  },
  {
   "cell_type": "markdown",
   "id": "3881d2d6",
   "metadata": {},
   "source": [
    "### 数值属性的5数概括及缺失值的个数"
   ]
  },
  {
   "cell_type": "code",
   "execution_count": 7,
   "id": "3f9143c0",
   "metadata": {},
   "outputs": [
    {
     "data": {
      "text/html": [
       "<div>\n",
       "<style scoped>\n",
       "    .dataframe tbody tr th:only-of-type {\n",
       "        vertical-align: middle;\n",
       "    }\n",
       "\n",
       "    .dataframe tbody tr th {\n",
       "        vertical-align: top;\n",
       "    }\n",
       "\n",
       "    .dataframe thead th {\n",
       "        text-align: right;\n",
       "    }\n",
       "</style>\n",
       "<table border=\"1\" class=\"dataframe\">\n",
       "  <thead>\n",
       "    <tr style=\"text-align: right;\">\n",
       "      <th></th>\n",
       "      <th>IMDb-rating</th>\n",
       "      <th>downloads</th>\n",
       "      <th>id</th>\n",
       "      <th>views</th>\n",
       "    </tr>\n",
       "  </thead>\n",
       "  <tbody>\n",
       "    <tr>\n",
       "      <th>count</th>\n",
       "      <td>19707.000000</td>\n",
       "      <td>20547.000000</td>\n",
       "      <td>20548.000000</td>\n",
       "      <td>2.054700e+04</td>\n",
       "    </tr>\n",
       "    <tr>\n",
       "      <th>mean</th>\n",
       "      <td>5.762151</td>\n",
       "      <td>10795.238916</td>\n",
       "      <td>222351.199776</td>\n",
       "      <td>3.559551e+04</td>\n",
       "    </tr>\n",
       "    <tr>\n",
       "      <th>std</th>\n",
       "      <td>1.374041</td>\n",
       "      <td>23716.181987</td>\n",
       "      <td>138422.327931</td>\n",
       "      <td>6.247242e+04</td>\n",
       "    </tr>\n",
       "    <tr>\n",
       "      <th>min</th>\n",
       "      <td>1.100000</td>\n",
       "      <td>0.000000</td>\n",
       "      <td>1.000000</td>\n",
       "      <td>6.670000e+02</td>\n",
       "    </tr>\n",
       "    <tr>\n",
       "      <th>25%</th>\n",
       "      <td>4.800000</td>\n",
       "      <td>855.500000</td>\n",
       "      <td>96122.250000</td>\n",
       "      <td>7.571500e+03</td>\n",
       "    </tr>\n",
       "    <tr>\n",
       "      <th>50%</th>\n",
       "      <td>5.700000</td>\n",
       "      <td>2716.000000</td>\n",
       "      <td>264457.500000</td>\n",
       "      <td>1.522200e+04</td>\n",
       "    </tr>\n",
       "    <tr>\n",
       "      <th>75%</th>\n",
       "      <td>6.600000</td>\n",
       "      <td>10070.000000</td>\n",
       "      <td>354561.250000</td>\n",
       "      <td>3.657100e+04</td>\n",
       "    </tr>\n",
       "    <tr>\n",
       "      <th>max</th>\n",
       "      <td>9.900000</td>\n",
       "      <td>391272.000000</td>\n",
       "      <td>372092.000000</td>\n",
       "      <td>1.638533e+06</td>\n",
       "    </tr>\n",
       "  </tbody>\n",
       "</table>\n",
       "</div>"
      ],
      "text/plain": [
       "        IMDb-rating      downloads             id         views\n",
       "count  19707.000000   20547.000000   20548.000000  2.054700e+04\n",
       "mean       5.762151   10795.238916  222351.199776  3.559551e+04\n",
       "std        1.374041   23716.181987  138422.327931  6.247242e+04\n",
       "min        1.100000       0.000000       1.000000  6.670000e+02\n",
       "25%        4.800000     855.500000   96122.250000  7.571500e+03\n",
       "50%        5.700000    2716.000000  264457.500000  1.522200e+04\n",
       "75%        6.600000   10070.000000  354561.250000  3.657100e+04\n",
       "max        9.900000  391272.000000  372092.000000  1.638533e+06"
      ]
     },
     "execution_count": 7,
     "metadata": {},
     "output_type": "execute_result"
    }
   ],
   "source": [
    "dataset.describe()"
   ]
  },
  {
   "cell_type": "code",
   "execution_count": 8,
   "id": "74e937ad",
   "metadata": {
    "scrolled": true
   },
   "outputs": [
    {
     "data": {
      "text/plain": [
       "IMDb-rating         841\n",
       "appropriate_for    9476\n",
       "director           1938\n",
       "downloads             1\n",
       "id                    0\n",
       "industry              1\n",
       "language            542\n",
       "posted_date           1\n",
       "release_date          1\n",
       "run_time           1768\n",
       "storyline          1701\n",
       "title                 1\n",
       "views                 1\n",
       "writer             2192\n",
       "dtype: int64"
      ]
     },
     "execution_count": 8,
     "metadata": {},
     "output_type": "execute_result"
    }
   ],
   "source": [
    "dataset.isnull().sum()"
   ]
  },
  {
   "cell_type": "markdown",
   "id": "cdd011cd",
   "metadata": {},
   "source": [
    "## 数据可视化"
   ]
  },
  {
   "cell_type": "code",
   "execution_count": 22,
   "id": "c48114b1",
   "metadata": {},
   "outputs": [
    {
     "data": {
      "image/png": "[encoded data removed]",
      "text/plain": [
       "<Figure size 640x480 with 1 Axes>"
      ]
     },
     "metadata": {},
     "output_type": "display_data"
    }
   ],
   "source": [
    "import matplotlib.pyplot as plt\n",
    "\n",
    "\n",
    "plt.rcParams['font.sans-serif'] = ['Microsoft YaHei']\n",
    "# 绘制箱线图\n",
    "plt.boxplot(x = dataset['downloads'], # 指定绘图数据\n",
    "            # 设置异常点属性，如点的形状、填充色和点的大小\n",
    "            labels = [''] # 删除x轴的刻度标签，否则图形显示刻度标签为1\n",
    "           )\n",
    "# 添加图形标题\n",
    "plt.title('downloads')\n",
    "# 显示图形\n",
    "plt.show()\n"
   ]
  },
  {
   "cell_type": "code",
   "execution_count": 23,
   "id": "579c20b8",
   "metadata": {},
   "outputs": [
    {
     "data": {
      "image/png": "[encoded data removed]",
      "text/plain": [
       "<Figure size 640x480 with 1 Axes>"
      ]
     },
     "metadata": {},
     "output_type": "display_data"
    }
   ],
   "source": [
    "plt.rcParams['font.sans-serif'] = ['Microsoft YaHei']\n",
    "# 绘制箱线图\n",
    "plt.boxplot(x = dataset['views'], # 指定绘图数据\n",
    "            # 设置异常点属性，如点的形状、填充色和点的大小\n",
    "            labels = [''] # 删除x轴的刻度标签，否则图形显示刻度标签为1\n",
    "           )\n",
    "# 添加图形标题\n",
    "plt.title('views')\n",
    "# 显示图形\n",
    "plt.show()"
   ]
  },
  {
   "cell_type": "code",
   "execution_count": 11,
   "id": "6d3610ef",
   "metadata": {},
   "outputs": [
    {
     "data": {
      "image/png": "[encoded data removed]",
      "text/plain": [
       "<Figure size 640x480 with 1 Axes>"
      ]
     },
     "metadata": {},
     "output_type": "display_data"
    }
   ],
   "source": [
    "import matplotlib.pyplot as plt\n",
    "plt.hist(dataset['IMDb-rating'],bins=10)\n",
    "plt.title(\"IMDb-rating\")\n",
    "plt.show()"
   ]
  },
  {
   "cell_type": "markdown",
   "id": "94f1ce14",
   "metadata": {},
   "source": [
    "# 数据缺失的处理"
   ]
  },
  {
   "cell_type": "markdown",
   "id": "b45865a3",
   "metadata": {},
   "source": [
    "由缺失值统计多项为1，发现id=371111处只有一个id，无其它数据，故剔除改行"
   ]
  },
  {
   "cell_type": "code",
   "execution_count": 12,
   "id": "e5fc49be",
   "metadata": {},
   "outputs": [],
   "source": [
    "dataset.drop(dataset[(dataset.id==371111)].index,inplace=True) "
   ]
  },
  {
   "cell_type": "code",
   "execution_count": 13,
   "id": "bf361646",
   "metadata": {
    "scrolled": true
   },
   "outputs": [
    {
     "data": {
      "text/plain": [
       "IMDb-rating         841\n",
       "appropriate_for    9475\n",
       "director           1937\n",
       "downloads             0\n",
       "id                    0\n",
       "industry              0\n",
       "language            541\n",
       "posted_date           0\n",
       "release_date          0\n",
       "run_time           1767\n",
       "storyline          1700\n",
       "title                 0\n",
       "views                 0\n",
       "writer             2191\n",
       "dtype: int64"
      ]
     },
     "execution_count": 13,
     "metadata": {},
     "output_type": "execute_result"
    }
   ],
   "source": [
    "dataset.isnull().sum()"
   ]
  },
  {
   "cell_type": "markdown",
   "id": "467824a2",
   "metadata": {},
   "source": [
    "使用IMDb-rating与views之间的相关性补充IMDb-rating空缺值"
   ]
  },
  {
   "cell_type": "code",
   "execution_count": 14,
   "id": "d6169e09",
   "metadata": {},
   "outputs": [
    {
     "name": "stderr",
     "output_type": "stream",
     "text": [
      "D:\\anaconda\\lib\\site-packages\\scipy\\__init__.py:146: UserWarning: A NumPy version >=1.16.5 and <1.23.0 is required for this version of SciPy (detected version 1.23.4\n",
      "  warnings.warn(f\"A NumPy version >={np_minversion} and <{np_maxversion}\"\n"
     ]
    }
   ],
   "source": [
    "import numpy as np\n",
    "from sklearn.linear_model import LinearRegression\n",
    "\n",
    "train_data = dataset[['IMDb-rating','views']].dropna()\n",
    "\n",
    "# 利用训练集训练线性回归模型，预测缺失值\n",
    "lr = LinearRegression()\n",
    "lr.fit(train_data['views'].values.reshape(-1, 1), train_data['IMDb-rating'].values.reshape(-1, 1))\n",
    "\n",
    "# 预测缺失值\n",
    "missing_age_indices = dataset[dataset['IMDb-rating'].isnull()].index\n",
    "predicted_ages = lr.predict(dataset.loc[missing_age_indices, 'views'].values.reshape(-1, 1))\n",
    "\n",
    "# 将预测的年龄填入缺失的位置\n",
    "dataset.loc[missing_age_indices, 'IMDb-rating'] = predicted_ages.flatten()"
   ]
  },
  {
   "cell_type": "code",
   "execution_count": 15,
   "id": "eb7b6609",
   "metadata": {},
   "outputs": [
    {
     "data": {
      "text/plain": [
       "IMDb-rating           0\n",
       "appropriate_for    9475\n",
       "director           1937\n",
       "downloads             0\n",
       "id                    0\n",
       "industry              0\n",
       "language            541\n",
       "posted_date           0\n",
       "release_date          0\n",
       "run_time           1767\n",
       "storyline          1700\n",
       "title                 0\n",
       "views                 0\n",
       "writer             2191\n",
       "dtype: int64"
      ]
     },
     "execution_count": 15,
     "metadata": {},
     "output_type": "execute_result"
    }
   ],
   "source": [
    "dataset.isnull().sum()"
   ]
  },
  {
   "attachments": {},
   "cell_type": "markdown",
   "id": "a24d22e0",
   "metadata": {},
   "source": [
    "由于director，language，storyline，run_time，writer都无相关属性，因此直接将缺失部分剔除"
   ]
  },
  {
   "cell_type": "code",
   "execution_count": 17,
   "id": "882c0020",
   "metadata": {},
   "outputs": [],
   "source": [
    "dataset = dataset.dropna(subset=['director'])\n",
    "dataset = dataset.dropna(subset=['language'])\n",
    "dataset = dataset.dropna(subset=['storyline'])\n",
    "dataset = dataset.dropna(subset=['run_time'])\n",
    "dataset = dataset.dropna(subset=['writer'])"
   ]
  },
  {
   "cell_type": "code",
   "execution_count": 18,
   "id": "e764cabf",
   "metadata": {},
   "outputs": [
    {
     "data": {
      "text/plain": [
       "IMDb-rating           0\n",
       "appropriate_for    6633\n",
       "director              0\n",
       "downloads             0\n",
       "id                    0\n",
       "industry              0\n",
       "language              0\n",
       "posted_date           0\n",
       "release_date          0\n",
       "run_time              0\n",
       "storyline             0\n",
       "title                 0\n",
       "views                 0\n",
       "writer                0\n",
       "dtype: int64"
      ]
     },
     "execution_count": 18,
     "metadata": {},
     "output_type": "execute_result"
    }
   ],
   "source": [
    "dataset.isnull().sum()"
   ]
  },
  {
   "cell_type": "markdown",
   "id": "8a69dcaf",
   "metadata": {},
   "source": [
    "appropriate_for用最高频率值来填补缺失值"
   ]
  },
  {
   "cell_type": "code",
   "execution_count": 19,
   "id": "e8a8acbe",
   "metadata": {},
   "outputs": [],
   "source": [
    "mode_value = dataset['appropriate_for'].mode()[0]\n",
    "dataset = dataset.fillna({'appropriate_for': mode_value})"
   ]
  },
  {
   "cell_type": "code",
   "execution_count": 20,
   "id": "fc0245dc",
   "metadata": {},
   "outputs": [
    {
     "data": {
      "text/plain": [
       "IMDb-rating        0\n",
       "appropriate_for    0\n",
       "director           0\n",
       "downloads          0\n",
       "id                 0\n",
       "industry           0\n",
       "language           0\n",
       "posted_date        0\n",
       "release_date       0\n",
       "run_time           0\n",
       "storyline          0\n",
       "title              0\n",
       "views              0\n",
       "writer             0\n",
       "dtype: int64"
      ]
     },
     "execution_count": 20,
     "metadata": {},
     "output_type": "execute_result"
    }
   ],
   "source": [
    "dataset.isnull().sum()"
   ]
  },
  {
   "cell_type": "code",
   "execution_count": 21,
   "id": "5f20ff89",
   "metadata": {},
   "outputs": [
    {
     "data": {
      "text/html": [
       "<div>\n",
       "<style scoped>\n",
       "    .dataframe tbody tr th:only-of-type {\n",
       "        vertical-align: middle;\n",
       "    }\n",
       "\n",
       "    .dataframe tbody tr th {\n",
       "        vertical-align: top;\n",
       "    }\n",
       "\n",
       "    .dataframe thead th {\n",
       "        text-align: right;\n",
       "    }\n",
       "</style>\n",
       "<table border=\"1\" class=\"dataframe\">\n",
       "  <thead>\n",
       "    <tr style=\"text-align: right;\">\n",
       "      <th></th>\n",
       "      <th>IMDb-rating</th>\n",
       "      <th>appropriate_for</th>\n",
       "      <th>director</th>\n",
       "      <th>downloads</th>\n",
       "      <th>id</th>\n",
       "      <th>industry</th>\n",
       "      <th>language</th>\n",
       "      <th>posted_date</th>\n",
       "      <th>release_date</th>\n",
       "      <th>run_time</th>\n",
       "      <th>storyline</th>\n",
       "      <th>title</th>\n",
       "      <th>views</th>\n",
       "      <th>writer</th>\n",
       "    </tr>\n",
       "  </thead>\n",
       "  <tbody>\n",
       "    <tr>\n",
       "      <th>0</th>\n",
       "      <td>4.8</td>\n",
       "      <td>R</td>\n",
       "      <td>John Swab</td>\n",
       "      <td>304.0</td>\n",
       "      <td>372092.0</td>\n",
       "      <td>Hollywood / English</td>\n",
       "      <td>English</td>\n",
       "      <td>20 Feb, 2023</td>\n",
       "      <td>Jan 28 2023</td>\n",
       "      <td>105.00</td>\n",
       "      <td>Doc\\n facilitates a fragile truce between the ...</td>\n",
       "      <td>Little Dixie</td>\n",
       "      <td>2794.0</td>\n",
       "      <td>John Swab</td>\n",
       "    </tr>\n",
       "    <tr>\n",
       "      <th>1</th>\n",
       "      <td>6.4</td>\n",
       "      <td>TV-PG</td>\n",
       "      <td>Paul Ziller</td>\n",
       "      <td>73.0</td>\n",
       "      <td>372091.0</td>\n",
       "      <td>Hollywood / English</td>\n",
       "      <td>English</td>\n",
       "      <td>20 Feb, 2023</td>\n",
       "      <td>Feb 05 2023</td>\n",
       "      <td>84.00</td>\n",
       "      <td>Caterer\\n Goldy Berry reunites with detective ...</td>\n",
       "      <td>Grilling Season: A Curious Caterer Mystery</td>\n",
       "      <td>1002.0</td>\n",
       "      <td>John Christian Plummer</td>\n",
       "    </tr>\n",
       "    <tr>\n",
       "      <th>2</th>\n",
       "      <td>5.2</td>\n",
       "      <td>R</td>\n",
       "      <td>Ben Wheatley</td>\n",
       "      <td>1427.0</td>\n",
       "      <td>343381.0</td>\n",
       "      <td>Hollywood / English</td>\n",
       "      <td>English,Hindi</td>\n",
       "      <td>20 Apr, 2021</td>\n",
       "      <td>Jun 18 2021</td>\n",
       "      <td>1h 47min</td>\n",
       "      <td>As the world searches for a cure to a disastro...</td>\n",
       "      <td>In the Earth</td>\n",
       "      <td>14419.0</td>\n",
       "      <td>Ben Wheatley</td>\n",
       "    </tr>\n",
       "    <tr>\n",
       "      <th>3</th>\n",
       "      <td>8.1</td>\n",
       "      <td>R</td>\n",
       "      <td>Venky Atluri</td>\n",
       "      <td>1549.0</td>\n",
       "      <td>372090.0</td>\n",
       "      <td>Tollywood</td>\n",
       "      <td>Hindi</td>\n",
       "      <td>20 Feb, 2023</td>\n",
       "      <td>Feb 17 2023</td>\n",
       "      <td>139.00</td>\n",
       "      <td>The life of a young man and his struggles agai...</td>\n",
       "      <td>Vaathi</td>\n",
       "      <td>4878.0</td>\n",
       "      <td>Venky Atluri</td>\n",
       "    </tr>\n",
       "    <tr>\n",
       "      <th>4</th>\n",
       "      <td>4.6</td>\n",
       "      <td>R</td>\n",
       "      <td>Shaji Kailas</td>\n",
       "      <td>657.0</td>\n",
       "      <td>372089.0</td>\n",
       "      <td>Tollywood</td>\n",
       "      <td>Hindi</td>\n",
       "      <td>20 Feb, 2023</td>\n",
       "      <td>Jan 26 2023</td>\n",
       "      <td>122.00</td>\n",
       "      <td>A man named Kalidas gets stranded due to the p...</td>\n",
       "      <td>Alone</td>\n",
       "      <td>2438.0</td>\n",
       "      <td>Rajesh Jayaraman</td>\n",
       "    </tr>\n",
       "    <tr>\n",
       "      <th>...</th>\n",
       "      <td>...</td>\n",
       "      <td>...</td>\n",
       "      <td>...</td>\n",
       "      <td>...</td>\n",
       "      <td>...</td>\n",
       "      <td>...</td>\n",
       "      <td>...</td>\n",
       "      <td>...</td>\n",
       "      <td>...</td>\n",
       "      <td>...</td>\n",
       "      <td>...</td>\n",
       "      <td>...</td>\n",
       "      <td>...</td>\n",
       "      <td>...</td>\n",
       "    </tr>\n",
       "    <tr>\n",
       "      <th>20538</th>\n",
       "      <td>6.9</td>\n",
       "      <td>R</td>\n",
       "      <td>Ram Maheshwari</td>\n",
       "      <td>2869.0</td>\n",
       "      <td>24462.0</td>\n",
       "      <td>Bollywood / Indian</td>\n",
       "      <td>Hindi</td>\n",
       "      <td>01 Jan, 1970</td>\n",
       "      <td>Feb 02 1968</td>\n",
       "      <td>160.00</td>\n",
       "      <td>Sleepwalker Sita Raichand (Waheeda Rehman) is ...</td>\n",
       "      <td>Neel Kamal</td>\n",
       "      <td>6209.0</td>\n",
       "      <td>Binoy Chatterjee, Gulshan Nanda</td>\n",
       "    </tr>\n",
       "    <tr>\n",
       "      <th>20539</th>\n",
       "      <td>8.1</td>\n",
       "      <td>R</td>\n",
       "      <td>Jyoti Swaroop</td>\n",
       "      <td>5066.0</td>\n",
       "      <td>24463.0</td>\n",
       "      <td>Bollywood / Indian</td>\n",
       "      <td>Hindi</td>\n",
       "      <td>01 Jan, 1970</td>\n",
       "      <td>May 24 1968</td>\n",
       "      <td>157 min</td>\n",
       "      <td>Bhola (Sunil Dutt) is a simple minded young ma...</td>\n",
       "      <td>Padosan</td>\n",
       "      <td>9967.0</td>\n",
       "      <td>Rajendra Krishan, Rajendra Krishan</td>\n",
       "    </tr>\n",
       "    <tr>\n",
       "      <th>20540</th>\n",
       "      <td>7.0</td>\n",
       "      <td>G</td>\n",
       "      <td>Guy Hamilton</td>\n",
       "      <td>2544.0</td>\n",
       "      <td>25548.0</td>\n",
       "      <td>Hollywood / English</td>\n",
       "      <td>English,German,Polish,French</td>\n",
       "      <td>01 Jan, 1970</td>\n",
       "      <td>Sep 17 1969</td>\n",
       "      <td>132.00</td>\n",
       "      <td>Historical reenactment of the air war in the e...</td>\n",
       "      <td>Battle of Britain</td>\n",
       "      <td>9320.0</td>\n",
       "      <td>James Kennaway, Wilfred Greatorex, Derek Dempster</td>\n",
       "    </tr>\n",
       "    <tr>\n",
       "      <th>20542</th>\n",
       "      <td>7.2</td>\n",
       "      <td>R</td>\n",
       "      <td>C.V. Sridhar</td>\n",
       "      <td>2266.0</td>\n",
       "      <td>26428.0</td>\n",
       "      <td>Bollywood / Indian</td>\n",
       "      <td>Hindi,English</td>\n",
       "      <td>01 Jan, 1970</td>\n",
       "      <td>Mar 22 1968</td>\n",
       "      <td>2h 36min</td>\n",
       "      <td>Dr. Ravi returns from abroad and takes up posi...</td>\n",
       "      <td>Saathi</td>\n",
       "      <td>5932.0</td>\n",
       "      <td>Abrar Alvi, Raj Baldev Raj</td>\n",
       "    </tr>\n",
       "    <tr>\n",
       "      <th>20544</th>\n",
       "      <td>7.7</td>\n",
       "      <td>R</td>\n",
       "      <td>Bimal Roy</td>\n",
       "      <td>6080.0</td>\n",
       "      <td>28958.0</td>\n",
       "      <td>Bollywood / Indian</td>\n",
       "      <td>Hindi</td>\n",
       "      <td>01 Jan, 1970</td>\n",
       "      <td>May 13 1955</td>\n",
       "      <td>159.00</td>\n",
       "      <td>Devdas and Parvati had been inseparable as chi...</td>\n",
       "      <td>Devdas</td>\n",
       "      <td>16376.0</td>\n",
       "      <td>Rajinder Singh Bedi, Saratchandra Chatterjee, ...</td>\n",
       "    </tr>\n",
       "  </tbody>\n",
       "</table>\n",
       "<p>16544 rows × 14 columns</p>\n",
       "</div>"
      ],
      "text/plain": [
       "       IMDb-rating appropriate_for        director  downloads        id  \\\n",
       "0              4.8               R       John Swab      304.0  372092.0   \n",
       "1              6.4           TV-PG     Paul Ziller       73.0  372091.0   \n",
       "2              5.2               R    Ben Wheatley     1427.0  343381.0   \n",
       "3              8.1               R    Venky Atluri     1549.0  372090.0   \n",
       "4              4.6               R    Shaji Kailas      657.0  372089.0   \n",
       "...            ...             ...             ...        ...       ...   \n",
       "20538          6.9               R  Ram Maheshwari     2869.0   24462.0   \n",
       "20539          8.1               R   Jyoti Swaroop     5066.0   24463.0   \n",
       "20540          7.0               G    Guy Hamilton     2544.0   25548.0   \n",
       "20542          7.2               R    C.V. Sridhar     2266.0   26428.0   \n",
       "20544          7.7               R       Bimal Roy     6080.0   28958.0   \n",
       "\n",
       "                  industry                      language   posted_date  \\\n",
       "0      Hollywood / English                       English  20 Feb, 2023   \n",
       "1      Hollywood / English                       English  20 Feb, 2023   \n",
       "2      Hollywood / English                 English,Hindi  20 Apr, 2021   \n",
       "3                Tollywood                         Hindi  20 Feb, 2023   \n",
       "4                Tollywood                         Hindi  20 Feb, 2023   \n",
       "...                    ...                           ...           ...   \n",
       "20538   Bollywood / Indian                         Hindi  01 Jan, 1970   \n",
       "20539   Bollywood / Indian                         Hindi  01 Jan, 1970   \n",
       "20540  Hollywood / English  English,German,Polish,French  01 Jan, 1970   \n",
       "20542   Bollywood / Indian                 Hindi,English  01 Jan, 1970   \n",
       "20544   Bollywood / Indian                         Hindi  01 Jan, 1970   \n",
       "\n",
       "      release_date  run_time  \\\n",
       "0      Jan 28 2023   105.00    \n",
       "1      Feb 05 2023    84.00    \n",
       "2      Jun 18 2021  1h 47min   \n",
       "3      Feb 17 2023   139.00    \n",
       "4      Jan 26 2023   122.00    \n",
       "...            ...       ...   \n",
       "20538  Feb 02 1968   160.00    \n",
       "20539  May 24 1968   157 min   \n",
       "20540  Sep 17 1969   132.00    \n",
       "20542  Mar 22 1968  2h 36min   \n",
       "20544  May 13 1955   159.00    \n",
       "\n",
       "                                               storyline  \\\n",
       "0      Doc\\n facilitates a fragile truce between the ...   \n",
       "1      Caterer\\n Goldy Berry reunites with detective ...   \n",
       "2      As the world searches for a cure to a disastro...   \n",
       "3      The life of a young man and his struggles agai...   \n",
       "4      A man named Kalidas gets stranded due to the p...   \n",
       "...                                                  ...   \n",
       "20538  Sleepwalker Sita Raichand (Waheeda Rehman) is ...   \n",
       "20539  Bhola (Sunil Dutt) is a simple minded young ma...   \n",
       "20540  Historical reenactment of the air war in the e...   \n",
       "20542  Dr. Ravi returns from abroad and takes up posi...   \n",
       "20544  Devdas and Parvati had been inseparable as chi...   \n",
       "\n",
       "                                            title    views  \\\n",
       "0                                    Little Dixie   2794.0   \n",
       "1      Grilling Season: A Curious Caterer Mystery   1002.0   \n",
       "2                                    In the Earth  14419.0   \n",
       "3                                          Vaathi   4878.0   \n",
       "4                                           Alone   2438.0   \n",
       "...                                           ...      ...   \n",
       "20538                                  Neel Kamal   6209.0   \n",
       "20539                                     Padosan   9967.0   \n",
       "20540                           Battle of Britain   9320.0   \n",
       "20542                                      Saathi   5932.0   \n",
       "20544                                      Devdas  16376.0   \n",
       "\n",
       "                                                  writer  \n",
       "0                                              John Swab  \n",
       "1                                 John Christian Plummer  \n",
       "2                                           Ben Wheatley  \n",
       "3                                           Venky Atluri  \n",
       "4                                       Rajesh Jayaraman  \n",
       "...                                                  ...  \n",
       "20538                    Binoy Chatterjee, Gulshan Nanda  \n",
       "20539                 Rajendra Krishan, Rajendra Krishan  \n",
       "20540  James Kennaway, Wilfred Greatorex, Derek Dempster  \n",
       "20542                         Abrar Alvi, Raj Baldev Raj  \n",
       "20544  Rajinder Singh Bedi, Saratchandra Chatterjee, ...  \n",
       "\n",
       "[16544 rows x 14 columns]"
      ]
     },
     "execution_count": 21,
     "metadata": {},
     "output_type": "execute_result"
    }
   ],
   "source": [
    "dataset"
   ]
  },
  {
   "cell_type": "markdown",
   "id": "96deb194",
   "metadata": {},
   "source": [
    "## "
   ]
  }
 ],
 "metadata": {
  "kernelspec": {
   "display_name": "Python 3 (ipykernel)",
   "language": "python",
   "name": "python3"
  },
  "language_info": {
   "codemirror_mode": {
    "name": "ipython",
    "version": 3
   },
   "file_extension": ".py",
   "mimetype": "text/x-python",
   "name": "python",
   "nbconvert_exporter": "python",
   "pygments_lexer": "ipython3",
   "version": "3.9.13"
  }
 },
 "nbformat": 4,
 "nbformat_minor": 5
}
